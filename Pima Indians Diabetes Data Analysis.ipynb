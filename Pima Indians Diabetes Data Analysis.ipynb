{
 "cells": [
  {
   "cell_type": "code",
   "execution_count": 1,
   "id": "ece02989",
   "metadata": {},
   "outputs": [],
   "source": [
    "#Importing the Libraries\n",
    "\n",
    "import numpy as np\n",
    "import pandas as pd\n",
    "import random\n",
    "import seaborn as sns\n",
    "%matplotlib inline\n",
    "import matplotlib.pyplot as plt"
   ]
  },
  {
   "cell_type": "code",
   "execution_count": 2,
   "id": "df582cad",
   "metadata": {},
   "outputs": [],
   "source": [
    "import warnings\n",
    "warnings.filterwarnings('ignore')"
   ]
  },
  {
   "cell_type": "markdown",
   "id": "785e54e9",
   "metadata": {},
   "source": [
    "### Loading the Dataset"
   ]
  },
  {
   "cell_type": "code",
   "execution_count": 3,
   "id": "f48731bc",
   "metadata": {},
   "outputs": [
    {
     "data": {
      "text/html": [
       "<div>\n",
       "<style scoped>\n",
       "    .dataframe tbody tr th:only-of-type {\n",
       "        vertical-align: middle;\n",
       "    }\n",
       "\n",
       "    .dataframe tbody tr th {\n",
       "        vertical-align: top;\n",
       "    }\n",
       "\n",
       "    .dataframe thead th {\n",
       "        text-align: right;\n",
       "    }\n",
       "</style>\n",
       "<table border=\"1\" class=\"dataframe\">\n",
       "  <thead>\n",
       "    <tr style=\"text-align: right;\">\n",
       "      <th></th>\n",
       "      <th>Pregnancies</th>\n",
       "      <th>Glucose</th>\n",
       "      <th>BloodPressure</th>\n",
       "      <th>SkinThickness</th>\n",
       "      <th>Insulin</th>\n",
       "      <th>BMI</th>\n",
       "      <th>DiabetesPedigreeFunction</th>\n",
       "      <th>Age</th>\n",
       "      <th>Outcome</th>\n",
       "    </tr>\n",
       "  </thead>\n",
       "  <tbody>\n",
       "    <tr>\n",
       "      <th>0</th>\n",
       "      <td>6</td>\n",
       "      <td>148</td>\n",
       "      <td>72</td>\n",
       "      <td>35</td>\n",
       "      <td>0</td>\n",
       "      <td>33.6</td>\n",
       "      <td>0.627</td>\n",
       "      <td>50</td>\n",
       "      <td>1</td>\n",
       "    </tr>\n",
       "    <tr>\n",
       "      <th>1</th>\n",
       "      <td>1</td>\n",
       "      <td>85</td>\n",
       "      <td>66</td>\n",
       "      <td>29</td>\n",
       "      <td>0</td>\n",
       "      <td>26.6</td>\n",
       "      <td>0.351</td>\n",
       "      <td>31</td>\n",
       "      <td>0</td>\n",
       "    </tr>\n",
       "    <tr>\n",
       "      <th>2</th>\n",
       "      <td>8</td>\n",
       "      <td>183</td>\n",
       "      <td>64</td>\n",
       "      <td>0</td>\n",
       "      <td>0</td>\n",
       "      <td>23.3</td>\n",
       "      <td>0.672</td>\n",
       "      <td>32</td>\n",
       "      <td>1</td>\n",
       "    </tr>\n",
       "    <tr>\n",
       "      <th>3</th>\n",
       "      <td>1</td>\n",
       "      <td>89</td>\n",
       "      <td>66</td>\n",
       "      <td>23</td>\n",
       "      <td>94</td>\n",
       "      <td>28.1</td>\n",
       "      <td>0.167</td>\n",
       "      <td>21</td>\n",
       "      <td>0</td>\n",
       "    </tr>\n",
       "    <tr>\n",
       "      <th>4</th>\n",
       "      <td>0</td>\n",
       "      <td>137</td>\n",
       "      <td>40</td>\n",
       "      <td>35</td>\n",
       "      <td>168</td>\n",
       "      <td>43.1</td>\n",
       "      <td>2.288</td>\n",
       "      <td>33</td>\n",
       "      <td>1</td>\n",
       "    </tr>\n",
       "  </tbody>\n",
       "</table>\n",
       "</div>"
      ],
      "text/plain": [
       "   Pregnancies  Glucose  BloodPressure  SkinThickness  Insulin   BMI  \\\n",
       "0            6      148             72             35        0  33.6   \n",
       "1            1       85             66             29        0  26.6   \n",
       "2            8      183             64              0        0  23.3   \n",
       "3            1       89             66             23       94  28.1   \n",
       "4            0      137             40             35      168  43.1   \n",
       "\n",
       "   DiabetesPedigreeFunction  Age  Outcome  \n",
       "0                     0.627   50        1  \n",
       "1                     0.351   31        0  \n",
       "2                     0.672   32        1  \n",
       "3                     0.167   21        0  \n",
       "4                     2.288   33        1  "
      ]
     },
     "execution_count": 3,
     "metadata": {},
     "output_type": "execute_result"
    }
   ],
   "source": [
    "pid = pd.read_csv('diabetes.csv')\n",
    "pid.head()"
   ]
  },
  {
   "cell_type": "code",
   "execution_count": 4,
   "id": "150e1df5",
   "metadata": {},
   "outputs": [
    {
     "data": {
      "text/html": [
       "<div>\n",
       "<style scoped>\n",
       "    .dataframe tbody tr th:only-of-type {\n",
       "        vertical-align: middle;\n",
       "    }\n",
       "\n",
       "    .dataframe tbody tr th {\n",
       "        vertical-align: top;\n",
       "    }\n",
       "\n",
       "    .dataframe thead th {\n",
       "        text-align: right;\n",
       "    }\n",
       "</style>\n",
       "<table border=\"1\" class=\"dataframe\">\n",
       "  <thead>\n",
       "    <tr style=\"text-align: right;\">\n",
       "      <th></th>\n",
       "      <th>Pregnancies</th>\n",
       "      <th>Glucose</th>\n",
       "      <th>BloodPressure</th>\n",
       "      <th>SkinThickness</th>\n",
       "      <th>Insulin</th>\n",
       "      <th>BMI</th>\n",
       "      <th>DiabetesPedigreeFunction</th>\n",
       "      <th>Age</th>\n",
       "      <th>Outcome</th>\n",
       "    </tr>\n",
       "  </thead>\n",
       "  <tbody>\n",
       "    <tr>\n",
       "      <th>763</th>\n",
       "      <td>10</td>\n",
       "      <td>101</td>\n",
       "      <td>76</td>\n",
       "      <td>48</td>\n",
       "      <td>180</td>\n",
       "      <td>32.9</td>\n",
       "      <td>0.171</td>\n",
       "      <td>63</td>\n",
       "      <td>0</td>\n",
       "    </tr>\n",
       "    <tr>\n",
       "      <th>764</th>\n",
       "      <td>2</td>\n",
       "      <td>122</td>\n",
       "      <td>70</td>\n",
       "      <td>27</td>\n",
       "      <td>0</td>\n",
       "      <td>36.8</td>\n",
       "      <td>0.340</td>\n",
       "      <td>27</td>\n",
       "      <td>0</td>\n",
       "    </tr>\n",
       "    <tr>\n",
       "      <th>765</th>\n",
       "      <td>5</td>\n",
       "      <td>121</td>\n",
       "      <td>72</td>\n",
       "      <td>23</td>\n",
       "      <td>112</td>\n",
       "      <td>26.2</td>\n",
       "      <td>0.245</td>\n",
       "      <td>30</td>\n",
       "      <td>0</td>\n",
       "    </tr>\n",
       "    <tr>\n",
       "      <th>766</th>\n",
       "      <td>1</td>\n",
       "      <td>126</td>\n",
       "      <td>60</td>\n",
       "      <td>0</td>\n",
       "      <td>0</td>\n",
       "      <td>30.1</td>\n",
       "      <td>0.349</td>\n",
       "      <td>47</td>\n",
       "      <td>1</td>\n",
       "    </tr>\n",
       "    <tr>\n",
       "      <th>767</th>\n",
       "      <td>1</td>\n",
       "      <td>93</td>\n",
       "      <td>70</td>\n",
       "      <td>31</td>\n",
       "      <td>0</td>\n",
       "      <td>30.4</td>\n",
       "      <td>0.315</td>\n",
       "      <td>23</td>\n",
       "      <td>0</td>\n",
       "    </tr>\n",
       "  </tbody>\n",
       "</table>\n",
       "</div>"
      ],
      "text/plain": [
       "     Pregnancies  Glucose  BloodPressure  SkinThickness  Insulin   BMI  \\\n",
       "763           10      101             76             48      180  32.9   \n",
       "764            2      122             70             27        0  36.8   \n",
       "765            5      121             72             23      112  26.2   \n",
       "766            1      126             60              0        0  30.1   \n",
       "767            1       93             70             31        0  30.4   \n",
       "\n",
       "     DiabetesPedigreeFunction  Age  Outcome  \n",
       "763                     0.171   63        0  \n",
       "764                     0.340   27        0  \n",
       "765                     0.245   30        0  \n",
       "766                     0.349   47        1  \n",
       "767                     0.315   23        0  "
      ]
     },
     "execution_count": 4,
     "metadata": {},
     "output_type": "execute_result"
    }
   ],
   "source": [
    "pid.tail()"
   ]
  },
  {
   "cell_type": "markdown",
   "id": "7b2bf51b",
   "metadata": {},
   "source": [
    "### Dataset Introduction"
   ]
  },
  {
   "cell_type": "markdown",
   "id": "25cf80e9",
   "metadata": {},
   "source": [
    "The data is sourced from the following URL: https://www.kaggle.com/vincentlugat/pima-indians-diabetes-eda-prediction-0-906/data\n",
    "\n",
    "The datasets consist of several medical predictor (independent) variables and one target (dependent) variable -Outcome. Independent variables include the number of pregnancies the patient has had, Glucose, BloodPressure, SkinThickness, Insulin, BMI, DiabetesPedigreeFunction, Age. "
   ]
  },
  {
   "cell_type": "markdown",
   "id": "19110ed9",
   "metadata": {},
   "source": [
    "#### Objective "
   ]
  },
  {
   "cell_type": "markdown",
   "id": "e490394e",
   "metadata": {},
   "source": [
    "The objective of the dataset is to diagnostically predict whether or not a patient has diabetes, based on certain diagnostic measurements included in the dataset.  In particular, all patients here are females at least 21 years old (minimum age in the dataset)."
   ]
  },
  {
   "cell_type": "markdown",
   "id": "bdf31815",
   "metadata": {},
   "source": [
    "#### Overview of the data"
   ]
  },
  {
   "cell_type": "markdown",
   "id": "2351ba96",
   "metadata": {},
   "source": [
    "The datasets consists of several medical predictor variables and one target variable, Outcome. Columns are following :\n",
    "\n",
    "Pregnancies : Number of pregnancies has had\n",
    "\n",
    "Glucose: Plasma glucose concentration a 2 hours in an oral glucose tolerance test\n",
    "\n",
    "BloodPressure: Diastolic blood pressure (mm Hg)\n",
    "\n",
    "SkinThickness: Triceps skin fold thickness (mm)\n",
    "\n",
    "Insulin: 2-Hour serum insulin (mu U/ml)\n",
    "\n",
    "BMI: Body mass index (weight in kg/(height in m)²)\n",
    "\n",
    "DiabetesPedigreeFunction: Diabetes pedigree function\n",
    "\n",
    "Age: Age in years\n",
    "\n",
    "Outcome: Class variable (0 or 1) 268 of 768 are (1 - Diabetic), the others are (0 - Non-Diabetic)"
   ]
  },
  {
   "cell_type": "markdown",
   "id": "a6b244fd",
   "metadata": {},
   "source": [
    "### Summary of the Dataset"
   ]
  },
  {
   "cell_type": "code",
   "execution_count": 5,
   "id": "c0d9d45b",
   "metadata": {},
   "outputs": [
    {
     "name": "stdout",
     "output_type": "stream",
     "text": [
      "<class 'pandas.core.frame.DataFrame'>\n",
      "RangeIndex: 768 entries, 0 to 767\n",
      "Data columns (total 9 columns):\n",
      " #   Column                    Non-Null Count  Dtype  \n",
      "---  ------                    --------------  -----  \n",
      " 0   Pregnancies               768 non-null    int64  \n",
      " 1   Glucose                   768 non-null    int64  \n",
      " 2   BloodPressure             768 non-null    int64  \n",
      " 3   SkinThickness             768 non-null    int64  \n",
      " 4   Insulin                   768 non-null    int64  \n",
      " 5   BMI                       768 non-null    float64\n",
      " 6   DiabetesPedigreeFunction  768 non-null    float64\n",
      " 7   Age                       768 non-null    int64  \n",
      " 8   Outcome                   768 non-null    int64  \n",
      "dtypes: float64(2), int64(7)\n",
      "memory usage: 54.1 KB\n"
     ]
    }
   ],
   "source": [
    "pid.info()"
   ]
  },
  {
   "cell_type": "markdown",
   "id": "455fe7a4",
   "metadata": {},
   "source": [
    "The dataset consists of 768 rows and 9 columns"
   ]
  },
  {
   "cell_type": "markdown",
   "id": "c9467a62",
   "metadata": {},
   "source": [
    "### Descriptive Statistics"
   ]
  },
  {
   "cell_type": "code",
   "execution_count": 6,
   "id": "38cb57d1",
   "metadata": {},
   "outputs": [
    {
     "data": {
      "text/html": [
       "<div>\n",
       "<style scoped>\n",
       "    .dataframe tbody tr th:only-of-type {\n",
       "        vertical-align: middle;\n",
       "    }\n",
       "\n",
       "    .dataframe tbody tr th {\n",
       "        vertical-align: top;\n",
       "    }\n",
       "\n",
       "    .dataframe thead th {\n",
       "        text-align: right;\n",
       "    }\n",
       "</style>\n",
       "<table border=\"1\" class=\"dataframe\">\n",
       "  <thead>\n",
       "    <tr style=\"text-align: right;\">\n",
       "      <th></th>\n",
       "      <th>Pregnancies</th>\n",
       "      <th>Glucose</th>\n",
       "      <th>BloodPressure</th>\n",
       "      <th>SkinThickness</th>\n",
       "      <th>Insulin</th>\n",
       "      <th>BMI</th>\n",
       "      <th>DiabetesPedigreeFunction</th>\n",
       "      <th>Age</th>\n",
       "      <th>Outcome</th>\n",
       "    </tr>\n",
       "  </thead>\n",
       "  <tbody>\n",
       "    <tr>\n",
       "      <th>count</th>\n",
       "      <td>768.00</td>\n",
       "      <td>768.00</td>\n",
       "      <td>768.00</td>\n",
       "      <td>768.00</td>\n",
       "      <td>768.00</td>\n",
       "      <td>768.00</td>\n",
       "      <td>768.00</td>\n",
       "      <td>768.00</td>\n",
       "      <td>768.00</td>\n",
       "    </tr>\n",
       "    <tr>\n",
       "      <th>mean</th>\n",
       "      <td>3.85</td>\n",
       "      <td>120.89</td>\n",
       "      <td>69.11</td>\n",
       "      <td>20.54</td>\n",
       "      <td>79.80</td>\n",
       "      <td>31.99</td>\n",
       "      <td>0.47</td>\n",
       "      <td>33.24</td>\n",
       "      <td>0.35</td>\n",
       "    </tr>\n",
       "    <tr>\n",
       "      <th>std</th>\n",
       "      <td>3.37</td>\n",
       "      <td>31.97</td>\n",
       "      <td>19.36</td>\n",
       "      <td>15.95</td>\n",
       "      <td>115.24</td>\n",
       "      <td>7.88</td>\n",
       "      <td>0.33</td>\n",
       "      <td>11.76</td>\n",
       "      <td>0.48</td>\n",
       "    </tr>\n",
       "    <tr>\n",
       "      <th>min</th>\n",
       "      <td>0.00</td>\n",
       "      <td>0.00</td>\n",
       "      <td>0.00</td>\n",
       "      <td>0.00</td>\n",
       "      <td>0.00</td>\n",
       "      <td>0.00</td>\n",
       "      <td>0.08</td>\n",
       "      <td>21.00</td>\n",
       "      <td>0.00</td>\n",
       "    </tr>\n",
       "    <tr>\n",
       "      <th>25%</th>\n",
       "      <td>1.00</td>\n",
       "      <td>99.00</td>\n",
       "      <td>62.00</td>\n",
       "      <td>0.00</td>\n",
       "      <td>0.00</td>\n",
       "      <td>27.30</td>\n",
       "      <td>0.24</td>\n",
       "      <td>24.00</td>\n",
       "      <td>0.00</td>\n",
       "    </tr>\n",
       "    <tr>\n",
       "      <th>50%</th>\n",
       "      <td>3.00</td>\n",
       "      <td>117.00</td>\n",
       "      <td>72.00</td>\n",
       "      <td>23.00</td>\n",
       "      <td>30.50</td>\n",
       "      <td>32.00</td>\n",
       "      <td>0.37</td>\n",
       "      <td>29.00</td>\n",
       "      <td>0.00</td>\n",
       "    </tr>\n",
       "    <tr>\n",
       "      <th>75%</th>\n",
       "      <td>6.00</td>\n",
       "      <td>140.25</td>\n",
       "      <td>80.00</td>\n",
       "      <td>32.00</td>\n",
       "      <td>127.25</td>\n",
       "      <td>36.60</td>\n",
       "      <td>0.63</td>\n",
       "      <td>41.00</td>\n",
       "      <td>1.00</td>\n",
       "    </tr>\n",
       "    <tr>\n",
       "      <th>max</th>\n",
       "      <td>17.00</td>\n",
       "      <td>199.00</td>\n",
       "      <td>122.00</td>\n",
       "      <td>99.00</td>\n",
       "      <td>846.00</td>\n",
       "      <td>67.10</td>\n",
       "      <td>2.42</td>\n",
       "      <td>81.00</td>\n",
       "      <td>1.00</td>\n",
       "    </tr>\n",
       "  </tbody>\n",
       "</table>\n",
       "</div>"
      ],
      "text/plain": [
       "       Pregnancies  Glucose  BloodPressure  SkinThickness  Insulin     BMI  \\\n",
       "count       768.00   768.00         768.00         768.00   768.00  768.00   \n",
       "mean          3.85   120.89          69.11          20.54    79.80   31.99   \n",
       "std           3.37    31.97          19.36          15.95   115.24    7.88   \n",
       "min           0.00     0.00           0.00           0.00     0.00    0.00   \n",
       "25%           1.00    99.00          62.00           0.00     0.00   27.30   \n",
       "50%           3.00   117.00          72.00          23.00    30.50   32.00   \n",
       "75%           6.00   140.25          80.00          32.00   127.25   36.60   \n",
       "max          17.00   199.00         122.00          99.00   846.00   67.10   \n",
       "\n",
       "       DiabetesPedigreeFunction     Age  Outcome  \n",
       "count                    768.00  768.00   768.00  \n",
       "mean                       0.47   33.24     0.35  \n",
       "std                        0.33   11.76     0.48  \n",
       "min                        0.08   21.00     0.00  \n",
       "25%                        0.24   24.00     0.00  \n",
       "50%                        0.37   29.00     0.00  \n",
       "75%                        0.63   41.00     1.00  \n",
       "max                        2.42   81.00     1.00  "
      ]
     },
     "execution_count": 6,
     "metadata": {},
     "output_type": "execute_result"
    }
   ],
   "source": [
    "pd.set_option('precision', 2)\n",
    "pid.describe()"
   ]
  },
  {
   "cell_type": "code",
   "execution_count": 7,
   "id": "c6158c95",
   "metadata": {},
   "outputs": [
    {
     "data": {
      "text/plain": [
       "0    500\n",
       "1    268\n",
       "Name: Outcome, dtype: int64"
      ]
     },
     "execution_count": 7,
     "metadata": {},
     "output_type": "execute_result"
    }
   ],
   "source": [
    "pid['Outcome'].value_counts()"
   ]
  },
  {
   "cell_type": "code",
   "execution_count": 8,
   "id": "475d32c9",
   "metadata": {},
   "outputs": [
    {
     "data": {
      "text/plain": [
       "count      768\n",
       "unique       2\n",
       "top       True\n",
       "freq       500\n",
       "Name: Outcome, dtype: object"
      ]
     },
     "execution_count": 8,
     "metadata": {},
     "output_type": "execute_result"
    }
   ],
   "source": [
    "(pid.Outcome == 0).describe()"
   ]
  },
  {
   "cell_type": "markdown",
   "id": "d8ca39a5",
   "metadata": {},
   "source": [
    "### Histogram"
   ]
  },
  {
   "cell_type": "code",
   "execution_count": 9,
   "id": "a7844206",
   "metadata": {},
   "outputs": [
    {
     "data": {
      "image/png": "[encoded data removed]",
      "text/plain": [
       "<Figure size 720x576 with 9 Axes>"
      ]
     },
     "metadata": {
      "needs_background": "light"
     },
     "output_type": "display_data"
    }
   ],
   "source": [
    "pid.hist(figsize=(10,8))\n",
    "plt.show()"
   ]
  },
  {
   "cell_type": "markdown",
   "id": "78a2a0ee",
   "metadata": {},
   "source": [
    "Histograms also emphasize the existence of outliers and also can see the zero values in some categories. "
   ]
  },
  {
   "cell_type": "markdown",
   "id": "b95af597",
   "metadata": {},
   "source": [
    "### Data Wrangling\n",
    "#### Checking out for Missing/Null values"
   ]
  },
  {
   "cell_type": "code",
   "execution_count": 10,
   "id": "eadaaf1b",
   "metadata": {},
   "outputs": [
    {
     "data": {
      "text/plain": [
       "Pregnancies                 0\n",
       "Glucose                     0\n",
       "BloodPressure               0\n",
       "SkinThickness               0\n",
       "Insulin                     0\n",
       "BMI                         0\n",
       "DiabetesPedigreeFunction    0\n",
       "Age                         0\n",
       "Outcome                     0\n",
       "dtype: int64"
      ]
     },
     "execution_count": 10,
     "metadata": {},
     "output_type": "execute_result"
    }
   ],
   "source": [
    "pid.isnull().sum()\n",
    "pid.isna().sum()"
   ]
  },
  {
   "cell_type": "markdown",
   "id": "4076be73",
   "metadata": {},
   "source": [
    "It shows that there are no null values (missing values) in the dataset. But, some variables cannot have 0 in the dataset such as:   \n",
    "###### Glucose : \n",
    "Even after fasting glucose levels would not be as low as 0. Therefore zero is an invalid reading.    \n",
    "###### BloodPressure : \n",
    "We can see 0 values for Blood Pressure, as the Blood Pressure cannot be 0 for anyone, the values are missing here.  \n",
    "###### SkinThickness : \n",
    "For normal people, skin fold thickness can’t be less than 10 mm.    \n",
    "###### Insulin: \n",
    "It cannot be 0, but can see many zero entries in the dataset for this column.   \n",
    "###### BMI: \n",
    "It should not be 0 to anyone. \n",
    "\n",
    "#### It seems very likely that zero values encode missing data. We replace 0 by NaN values to count the missing values."
   ]
  },
  {
   "cell_type": "code",
   "execution_count": 11,
   "id": "3dc26268",
   "metadata": {},
   "outputs": [
    {
     "data": {
      "text/html": [
       "<div>\n",
       "<style scoped>\n",
       "    .dataframe tbody tr th:only-of-type {\n",
       "        vertical-align: middle;\n",
       "    }\n",
       "\n",
       "    .dataframe tbody tr th {\n",
       "        vertical-align: top;\n",
       "    }\n",
       "\n",
       "    .dataframe thead th {\n",
       "        text-align: right;\n",
       "    }\n",
       "</style>\n",
       "<table border=\"1\" class=\"dataframe\">\n",
       "  <thead>\n",
       "    <tr style=\"text-align: right;\">\n",
       "      <th></th>\n",
       "      <th>Glucose</th>\n",
       "      <th>BloodPressure</th>\n",
       "      <th>SkinThickness</th>\n",
       "      <th>Insulin</th>\n",
       "      <th>BMI</th>\n",
       "    </tr>\n",
       "  </thead>\n",
       "  <tbody>\n",
       "    <tr>\n",
       "      <th>0</th>\n",
       "      <td>148.0</td>\n",
       "      <td>72.0</td>\n",
       "      <td>35.0</td>\n",
       "      <td>NaN</td>\n",
       "      <td>33.6</td>\n",
       "    </tr>\n",
       "    <tr>\n",
       "      <th>1</th>\n",
       "      <td>85.0</td>\n",
       "      <td>66.0</td>\n",
       "      <td>29.0</td>\n",
       "      <td>NaN</td>\n",
       "      <td>26.6</td>\n",
       "    </tr>\n",
       "    <tr>\n",
       "      <th>2</th>\n",
       "      <td>183.0</td>\n",
       "      <td>64.0</td>\n",
       "      <td>NaN</td>\n",
       "      <td>NaN</td>\n",
       "      <td>23.3</td>\n",
       "    </tr>\n",
       "    <tr>\n",
       "      <th>3</th>\n",
       "      <td>89.0</td>\n",
       "      <td>66.0</td>\n",
       "      <td>23.0</td>\n",
       "      <td>94.0</td>\n",
       "      <td>28.1</td>\n",
       "    </tr>\n",
       "    <tr>\n",
       "      <th>4</th>\n",
       "      <td>137.0</td>\n",
       "      <td>40.0</td>\n",
       "      <td>35.0</td>\n",
       "      <td>168.0</td>\n",
       "      <td>43.1</td>\n",
       "    </tr>\n",
       "    <tr>\n",
       "      <th>...</th>\n",
       "      <td>...</td>\n",
       "      <td>...</td>\n",
       "      <td>...</td>\n",
       "      <td>...</td>\n",
       "      <td>...</td>\n",
       "    </tr>\n",
       "    <tr>\n",
       "      <th>763</th>\n",
       "      <td>101.0</td>\n",
       "      <td>76.0</td>\n",
       "      <td>48.0</td>\n",
       "      <td>180.0</td>\n",
       "      <td>32.9</td>\n",
       "    </tr>\n",
       "    <tr>\n",
       "      <th>764</th>\n",
       "      <td>122.0</td>\n",
       "      <td>70.0</td>\n",
       "      <td>27.0</td>\n",
       "      <td>NaN</td>\n",
       "      <td>36.8</td>\n",
       "    </tr>\n",
       "    <tr>\n",
       "      <th>765</th>\n",
       "      <td>121.0</td>\n",
       "      <td>72.0</td>\n",
       "      <td>23.0</td>\n",
       "      <td>112.0</td>\n",
       "      <td>26.2</td>\n",
       "    </tr>\n",
       "    <tr>\n",
       "      <th>766</th>\n",
       "      <td>126.0</td>\n",
       "      <td>60.0</td>\n",
       "      <td>NaN</td>\n",
       "      <td>NaN</td>\n",
       "      <td>30.1</td>\n",
       "    </tr>\n",
       "    <tr>\n",
       "      <th>767</th>\n",
       "      <td>93.0</td>\n",
       "      <td>70.0</td>\n",
       "      <td>31.0</td>\n",
       "      <td>NaN</td>\n",
       "      <td>30.4</td>\n",
       "    </tr>\n",
       "  </tbody>\n",
       "</table>\n",
       "<p>768 rows × 5 columns</p>\n",
       "</div>"
      ],
      "text/plain": [
       "     Glucose  BloodPressure  SkinThickness  Insulin   BMI\n",
       "0      148.0           72.0           35.0      NaN  33.6\n",
       "1       85.0           66.0           29.0      NaN  26.6\n",
       "2      183.0           64.0            NaN      NaN  23.3\n",
       "3       89.0           66.0           23.0     94.0  28.1\n",
       "4      137.0           40.0           35.0    168.0  43.1\n",
       "..       ...            ...            ...      ...   ...\n",
       "763    101.0           76.0           48.0    180.0  32.9\n",
       "764    122.0           70.0           27.0      NaN  36.8\n",
       "765    121.0           72.0           23.0    112.0  26.2\n",
       "766    126.0           60.0            NaN      NaN  30.1\n",
       "767     93.0           70.0           31.0      NaN  30.4\n",
       "\n",
       "[768 rows x 5 columns]"
      ]
     },
     "execution_count": 11,
     "metadata": {},
     "output_type": "execute_result"
    }
   ],
   "source": [
    "#Replace 0 to NaN\n",
    "pid_new = pid[['Glucose','BloodPressure','SkinThickness','Insulin','BMI']] = pid[['Glucose','BloodPressure','SkinThickness','Insulin','BMI']].replace(0,np.nan)\n",
    "pid_new"
   ]
  },
  {
   "cell_type": "code",
   "execution_count": 12,
   "id": "6569f48f",
   "metadata": {},
   "outputs": [
    {
     "data": {
      "text/plain": [
       "Glucose            5\n",
       "BloodPressure     35\n",
       "SkinThickness    227\n",
       "Insulin          374\n",
       "BMI               11\n",
       "dtype: int64"
      ]
     },
     "execution_count": 12,
     "metadata": {},
     "output_type": "execute_result"
    }
   ],
   "source": [
    "pid_new.isnull().sum() #count of missing values (Nan in the dataset)"
   ]
  },
  {
   "cell_type": "markdown",
   "id": "f040c9b6",
   "metadata": {},
   "source": [
    "#### Replacing the 0 values with the median, as in case of outliers median is more robust than mean."
   ]
  },
  {
   "cell_type": "code",
   "execution_count": 13,
   "id": "d159cbe0",
   "metadata": {},
   "outputs": [],
   "source": [
    "# Calculating the median value for BMI\n",
    "\n",
    "median_bmi = pid['BMI'].median()\n",
    "\n",
    "# Substitute it in the BMI column of the dataset\n",
    "\n",
    "pid['BMI'].fillna(median_bmi,inplace=True)"
   ]
  },
  {
   "cell_type": "code",
   "execution_count": 14,
   "id": "fa3d2b4b",
   "metadata": {},
   "outputs": [],
   "source": [
    "#substiting the Glucose,BloodPressure,Insulin and SkinThickness columns with the median values\n",
    "\n",
    "pid['Glucose'].fillna(pid['Glucose'].median(),inplace=True)\n",
    "pid['BloodPressure'].fillna(pid['BloodPressure'].median(),inplace=True)\n",
    "pid['SkinThickness'].fillna(pid['SkinThickness'].median(),inplace=True)\n",
    "pid['Insulin'].fillna(pid['Insulin'].median(),inplace=True)"
   ]
  },
  {
   "cell_type": "code",
   "execution_count": 15,
   "id": "e6e06f95",
   "metadata": {},
   "outputs": [
    {
     "data": {
      "text/html": [
       "<div>\n",
       "<style scoped>\n",
       "    .dataframe tbody tr th:only-of-type {\n",
       "        vertical-align: middle;\n",
       "    }\n",
       "\n",
       "    .dataframe tbody tr th {\n",
       "        vertical-align: top;\n",
       "    }\n",
       "\n",
       "    .dataframe thead th {\n",
       "        text-align: right;\n",
       "    }\n",
       "</style>\n",
       "<table border=\"1\" class=\"dataframe\">\n",
       "  <thead>\n",
       "    <tr style=\"text-align: right;\">\n",
       "      <th></th>\n",
       "      <th>Pregnancies</th>\n",
       "      <th>Glucose</th>\n",
       "      <th>BloodPressure</th>\n",
       "      <th>SkinThickness</th>\n",
       "      <th>Insulin</th>\n",
       "      <th>BMI</th>\n",
       "      <th>DiabetesPedigreeFunction</th>\n",
       "      <th>Age</th>\n",
       "      <th>Outcome</th>\n",
       "    </tr>\n",
       "  </thead>\n",
       "  <tbody>\n",
       "    <tr>\n",
       "      <th>0</th>\n",
       "      <td>6</td>\n",
       "      <td>148.0</td>\n",
       "      <td>72.0</td>\n",
       "      <td>35.0</td>\n",
       "      <td>125.0</td>\n",
       "      <td>33.6</td>\n",
       "      <td>0.63</td>\n",
       "      <td>50</td>\n",
       "      <td>1</td>\n",
       "    </tr>\n",
       "    <tr>\n",
       "      <th>1</th>\n",
       "      <td>1</td>\n",
       "      <td>85.0</td>\n",
       "      <td>66.0</td>\n",
       "      <td>29.0</td>\n",
       "      <td>125.0</td>\n",
       "      <td>26.6</td>\n",
       "      <td>0.35</td>\n",
       "      <td>31</td>\n",
       "      <td>0</td>\n",
       "    </tr>\n",
       "    <tr>\n",
       "      <th>2</th>\n",
       "      <td>8</td>\n",
       "      <td>183.0</td>\n",
       "      <td>64.0</td>\n",
       "      <td>29.0</td>\n",
       "      <td>125.0</td>\n",
       "      <td>23.3</td>\n",
       "      <td>0.67</td>\n",
       "      <td>32</td>\n",
       "      <td>1</td>\n",
       "    </tr>\n",
       "    <tr>\n",
       "      <th>3</th>\n",
       "      <td>1</td>\n",
       "      <td>89.0</td>\n",
       "      <td>66.0</td>\n",
       "      <td>23.0</td>\n",
       "      <td>94.0</td>\n",
       "      <td>28.1</td>\n",
       "      <td>0.17</td>\n",
       "      <td>21</td>\n",
       "      <td>0</td>\n",
       "    </tr>\n",
       "    <tr>\n",
       "      <th>4</th>\n",
       "      <td>0</td>\n",
       "      <td>137.0</td>\n",
       "      <td>40.0</td>\n",
       "      <td>35.0</td>\n",
       "      <td>168.0</td>\n",
       "      <td>43.1</td>\n",
       "      <td>2.29</td>\n",
       "      <td>33</td>\n",
       "      <td>1</td>\n",
       "    </tr>\n",
       "    <tr>\n",
       "      <th>...</th>\n",
       "      <td>...</td>\n",
       "      <td>...</td>\n",
       "      <td>...</td>\n",
       "      <td>...</td>\n",
       "      <td>...</td>\n",
       "      <td>...</td>\n",
       "      <td>...</td>\n",
       "      <td>...</td>\n",
       "      <td>...</td>\n",
       "    </tr>\n",
       "    <tr>\n",
       "      <th>763</th>\n",
       "      <td>10</td>\n",
       "      <td>101.0</td>\n",
       "      <td>76.0</td>\n",
       "      <td>48.0</td>\n",
       "      <td>180.0</td>\n",
       "      <td>32.9</td>\n",
       "      <td>0.17</td>\n",
       "      <td>63</td>\n",
       "      <td>0</td>\n",
       "    </tr>\n",
       "    <tr>\n",
       "      <th>764</th>\n",
       "      <td>2</td>\n",
       "      <td>122.0</td>\n",
       "      <td>70.0</td>\n",
       "      <td>27.0</td>\n",
       "      <td>125.0</td>\n",
       "      <td>36.8</td>\n",
       "      <td>0.34</td>\n",
       "      <td>27</td>\n",
       "      <td>0</td>\n",
       "    </tr>\n",
       "    <tr>\n",
       "      <th>765</th>\n",
       "      <td>5</td>\n",
       "      <td>121.0</td>\n",
       "      <td>72.0</td>\n",
       "      <td>23.0</td>\n",
       "      <td>112.0</td>\n",
       "      <td>26.2</td>\n",
       "      <td>0.24</td>\n",
       "      <td>30</td>\n",
       "      <td>0</td>\n",
       "    </tr>\n",
       "    <tr>\n",
       "      <th>766</th>\n",
       "      <td>1</td>\n",
       "      <td>126.0</td>\n",
       "      <td>60.0</td>\n",
       "      <td>29.0</td>\n",
       "      <td>125.0</td>\n",
       "      <td>30.1</td>\n",
       "      <td>0.35</td>\n",
       "      <td>47</td>\n",
       "      <td>1</td>\n",
       "    </tr>\n",
       "    <tr>\n",
       "      <th>767</th>\n",
       "      <td>1</td>\n",
       "      <td>93.0</td>\n",
       "      <td>70.0</td>\n",
       "      <td>31.0</td>\n",
       "      <td>125.0</td>\n",
       "      <td>30.4</td>\n",
       "      <td>0.32</td>\n",
       "      <td>23</td>\n",
       "      <td>0</td>\n",
       "    </tr>\n",
       "  </tbody>\n",
       "</table>\n",
       "<p>768 rows × 9 columns</p>\n",
       "</div>"
      ],
      "text/plain": [
       "     Pregnancies  Glucose  BloodPressure  SkinThickness  Insulin   BMI  \\\n",
       "0              6    148.0           72.0           35.0    125.0  33.6   \n",
       "1              1     85.0           66.0           29.0    125.0  26.6   \n",
       "2              8    183.0           64.0           29.0    125.0  23.3   \n",
       "3              1     89.0           66.0           23.0     94.0  28.1   \n",
       "4              0    137.0           40.0           35.0    168.0  43.1   \n",
       "..           ...      ...            ...            ...      ...   ...   \n",
       "763           10    101.0           76.0           48.0    180.0  32.9   \n",
       "764            2    122.0           70.0           27.0    125.0  36.8   \n",
       "765            5    121.0           72.0           23.0    112.0  26.2   \n",
       "766            1    126.0           60.0           29.0    125.0  30.1   \n",
       "767            1     93.0           70.0           31.0    125.0  30.4   \n",
       "\n",
       "     DiabetesPedigreeFunction  Age  Outcome  \n",
       "0                        0.63   50        1  \n",
       "1                        0.35   31        0  \n",
       "2                        0.67   32        1  \n",
       "3                        0.17   21        0  \n",
       "4                        2.29   33        1  \n",
       "..                        ...  ...      ...  \n",
       "763                      0.17   63        0  \n",
       "764                      0.34   27        0  \n",
       "765                      0.24   30        0  \n",
       "766                      0.35   47        1  \n",
       "767                      0.32   23        0  \n",
       "\n",
       "[768 rows x 9 columns]"
      ]
     },
     "execution_count": 15,
     "metadata": {},
     "output_type": "execute_result"
    }
   ],
   "source": [
    "pid"
   ]
  },
  {
   "cell_type": "code",
   "execution_count": 16,
   "id": "4f28af0a",
   "metadata": {},
   "outputs": [
    {
     "data": {
      "text/html": [
       "<div>\n",
       "<style scoped>\n",
       "    .dataframe tbody tr th:only-of-type {\n",
       "        vertical-align: middle;\n",
       "    }\n",
       "\n",
       "    .dataframe tbody tr th {\n",
       "        vertical-align: top;\n",
       "    }\n",
       "\n",
       "    .dataframe thead th {\n",
       "        text-align: right;\n",
       "    }\n",
       "</style>\n",
       "<table border=\"1\" class=\"dataframe\">\n",
       "  <thead>\n",
       "    <tr style=\"text-align: right;\">\n",
       "      <th></th>\n",
       "      <th>Pregnancies</th>\n",
       "      <th>Glucose</th>\n",
       "      <th>BloodPressure</th>\n",
       "      <th>SkinThickness</th>\n",
       "      <th>Insulin</th>\n",
       "      <th>BMI</th>\n",
       "      <th>DiabetesPedigreeFunction</th>\n",
       "      <th>Age</th>\n",
       "      <th>Outcome</th>\n",
       "    </tr>\n",
       "  </thead>\n",
       "  <tbody>\n",
       "    <tr>\n",
       "      <th>count</th>\n",
       "      <td>768.00</td>\n",
       "      <td>768.00</td>\n",
       "      <td>768.00</td>\n",
       "      <td>768.00</td>\n",
       "      <td>768.00</td>\n",
       "      <td>768.00</td>\n",
       "      <td>768.00</td>\n",
       "      <td>768.00</td>\n",
       "      <td>768.00</td>\n",
       "    </tr>\n",
       "    <tr>\n",
       "      <th>mean</th>\n",
       "      <td>3.85</td>\n",
       "      <td>121.66</td>\n",
       "      <td>72.39</td>\n",
       "      <td>29.11</td>\n",
       "      <td>140.67</td>\n",
       "      <td>32.46</td>\n",
       "      <td>0.47</td>\n",
       "      <td>33.24</td>\n",
       "      <td>0.35</td>\n",
       "    </tr>\n",
       "    <tr>\n",
       "      <th>std</th>\n",
       "      <td>3.37</td>\n",
       "      <td>30.44</td>\n",
       "      <td>12.10</td>\n",
       "      <td>8.79</td>\n",
       "      <td>86.38</td>\n",
       "      <td>6.88</td>\n",
       "      <td>0.33</td>\n",
       "      <td>11.76</td>\n",
       "      <td>0.48</td>\n",
       "    </tr>\n",
       "    <tr>\n",
       "      <th>min</th>\n",
       "      <td>0.00</td>\n",
       "      <td>44.00</td>\n",
       "      <td>24.00</td>\n",
       "      <td>7.00</td>\n",
       "      <td>14.00</td>\n",
       "      <td>18.20</td>\n",
       "      <td>0.08</td>\n",
       "      <td>21.00</td>\n",
       "      <td>0.00</td>\n",
       "    </tr>\n",
       "    <tr>\n",
       "      <th>25%</th>\n",
       "      <td>1.00</td>\n",
       "      <td>99.75</td>\n",
       "      <td>64.00</td>\n",
       "      <td>25.00</td>\n",
       "      <td>121.50</td>\n",
       "      <td>27.50</td>\n",
       "      <td>0.24</td>\n",
       "      <td>24.00</td>\n",
       "      <td>0.00</td>\n",
       "    </tr>\n",
       "    <tr>\n",
       "      <th>50%</th>\n",
       "      <td>3.00</td>\n",
       "      <td>117.00</td>\n",
       "      <td>72.00</td>\n",
       "      <td>29.00</td>\n",
       "      <td>125.00</td>\n",
       "      <td>32.30</td>\n",
       "      <td>0.37</td>\n",
       "      <td>29.00</td>\n",
       "      <td>0.00</td>\n",
       "    </tr>\n",
       "    <tr>\n",
       "      <th>75%</th>\n",
       "      <td>6.00</td>\n",
       "      <td>140.25</td>\n",
       "      <td>80.00</td>\n",
       "      <td>32.00</td>\n",
       "      <td>127.25</td>\n",
       "      <td>36.60</td>\n",
       "      <td>0.63</td>\n",
       "      <td>41.00</td>\n",
       "      <td>1.00</td>\n",
       "    </tr>\n",
       "    <tr>\n",
       "      <th>max</th>\n",
       "      <td>17.00</td>\n",
       "      <td>199.00</td>\n",
       "      <td>122.00</td>\n",
       "      <td>99.00</td>\n",
       "      <td>846.00</td>\n",
       "      <td>67.10</td>\n",
       "      <td>2.42</td>\n",
       "      <td>81.00</td>\n",
       "      <td>1.00</td>\n",
       "    </tr>\n",
       "  </tbody>\n",
       "</table>\n",
       "</div>"
      ],
      "text/plain": [
       "       Pregnancies  Glucose  BloodPressure  SkinThickness  Insulin     BMI  \\\n",
       "count       768.00   768.00         768.00         768.00   768.00  768.00   \n",
       "mean          3.85   121.66          72.39          29.11   140.67   32.46   \n",
       "std           3.37    30.44          12.10           8.79    86.38    6.88   \n",
       "min           0.00    44.00          24.00           7.00    14.00   18.20   \n",
       "25%           1.00    99.75          64.00          25.00   121.50   27.50   \n",
       "50%           3.00   117.00          72.00          29.00   125.00   32.30   \n",
       "75%           6.00   140.25          80.00          32.00   127.25   36.60   \n",
       "max          17.00   199.00         122.00          99.00   846.00   67.10   \n",
       "\n",
       "       DiabetesPedigreeFunction     Age  Outcome  \n",
       "count                    768.00  768.00   768.00  \n",
       "mean                       0.47   33.24     0.35  \n",
       "std                        0.33   11.76     0.48  \n",
       "min                        0.08   21.00     0.00  \n",
       "25%                        0.24   24.00     0.00  \n",
       "50%                        0.37   29.00     0.00  \n",
       "75%                        0.63   41.00     1.00  \n",
       "max                        2.42   81.00     1.00  "
      ]
     },
     "execution_count": 16,
     "metadata": {},
     "output_type": "execute_result"
    }
   ],
   "source": [
    "pid.describe()"
   ]
  },
  {
   "cell_type": "markdown",
   "id": "1ab60ec6",
   "metadata": {},
   "source": [
    "### Outliers  detection\n",
    "Doing the further analysis on the columns with box plots"
   ]
  },
  {
   "cell_type": "code",
   "execution_count": 17,
   "id": "b64f753f",
   "metadata": {},
   "outputs": [
    {
     "data": {
      "image/png": "[encoded data removed]",
      "text/plain": [
       "<Figure size 432x288 with 1 Axes>"
      ]
     },
     "metadata": {
      "needs_background": "light"
     },
     "output_type": "display_data"
    }
   ],
   "source": [
    "# Creating boxplot for column=\"SkinThickness\"\n",
    "pid.boxplot(column = 'SkinThickness')\n",
    "\n",
    "plt.text(x=0.88, y=12, s=\"Min\")\n",
    "plt.text(x=0.88, y=42, s=\"Max\")\n",
    "plt.text(x=0.65, y=25, s=\"IQR\", rotation = 90,size = 20)\n",
    "\n",
    "plt.show()"
   ]
  },
  {
   "cell_type": "markdown",
   "id": "65e66d35",
   "metadata": {},
   "source": [
    "#### Box Plots of the given categories"
   ]
  },
  {
   "cell_type": "code",
   "execution_count": 18,
   "id": "1e52cf99",
   "metadata": {},
   "outputs": [
    {
     "data": {
      "text/plain": [
       "Pregnancies                    AxesSubplot(0.125,0.657941;0.227941x0.222059)\n",
       "Glucose                     AxesSubplot(0.398529,0.657941;0.227941x0.222059)\n",
       "BloodPressure               AxesSubplot(0.672059,0.657941;0.227941x0.222059)\n",
       "SkinThickness                  AxesSubplot(0.125,0.391471;0.227941x0.222059)\n",
       "Insulin                     AxesSubplot(0.398529,0.391471;0.227941x0.222059)\n",
       "BMI                         AxesSubplot(0.672059,0.391471;0.227941x0.222059)\n",
       "DiabetesPedigreeFunction          AxesSubplot(0.125,0.125;0.227941x0.222059)\n",
       "Age                            AxesSubplot(0.398529,0.125;0.227941x0.222059)\n",
       "Outcome                        AxesSubplot(0.672059,0.125;0.227941x0.222059)\n",
       "dtype: object"
      ]
     },
     "execution_count": 18,
     "metadata": {},
     "output_type": "execute_result"
    },
    {
     "data": {
      "image/png": "[encoded data removed]",
      "text/plain": [
       "<Figure size 720x576 with 9 Axes>"
      ]
     },
     "metadata": {
      "needs_background": "light"
     },
     "output_type": "display_data"
    }
   ],
   "source": [
    "pid.plot(kind= 'box' , subplots=True, layout=(3,3), sharex=False, sharey=False, figsize=(10,8))"
   ]
  },
  {
   "cell_type": "markdown",
   "id": "51250bf7",
   "metadata": {},
   "source": [
    "#### Dealing with the outliers\n",
    "\n",
    "##### SkinThickness"
   ]
  },
  {
   "cell_type": "code",
   "execution_count": 19,
   "id": "dd31d995",
   "metadata": {},
   "outputs": [
    {
     "name": "stdout",
     "output_type": "stream",
     "text": [
      "Count  : 768\n",
      "min_st : 7.0\n",
      "max_st : 99.0\n",
      "q1 quantile of Data :  25.0\n",
      "q2 quantile of Data :  29.0\n",
      "q3 quantile of Data :  32.0\n",
      "iqr : 7.0\n",
      "q1-(1.5*iqr) : 14.5\n",
      "q3+(1.5*iqr) : 42.5\n"
     ]
    }
   ],
   "source": [
    "st = pid['SkinThickness']\n",
    "\n",
    "print('Count  :',len(st))\n",
    "print('min_st :',min(st))\n",
    "print('max_st :',max(st))\n",
    "\n",
    "print('q1 quantile of Data : ', np.quantile(st, .25)) \n",
    "print('q2 quantile of Data : ', np.quantile(st, .50)) \n",
    "print('q3 quantile of Data : ', np.quantile(st, .75))  \n",
    "\n",
    "iqr = (np.quantile(st, .75) - np.quantile(st, .25))\n",
    "print('iqr :',iqr)\n",
    "print('q1-(1.5*iqr) :',np.quantile(st, .25)-(1.5*iqr))\n",
    "print('q3+(1.5*iqr) :',np .quantile(st, .75)+(1.5*iqr))"
   ]
  },
  {
   "cell_type": "code",
   "execution_count": 20,
   "id": "7a0e1ba4",
   "metadata": {},
   "outputs": [
    {
     "name": "stdout",
     "output_type": "stream",
     "text": [
      "dimension of data: (48, 9)\n"
     ]
    }
   ],
   "source": [
    "pid_st = pid[pid['SkinThickness']>42.5] #checking for outliers\n",
    "print(\"dimension of data: {}\".format(pid_st.shape))"
   ]
  },
  {
   "cell_type": "markdown",
   "id": "53381866",
   "metadata": {},
   "source": [
    "There are 48 rows of data having outliers out of 768 rows of data which is 6% of the data. As this not a large dataset, not removing the rows as can be useful for further analysis."
   ]
  },
  {
   "cell_type": "markdown",
   "id": "f65b2a03",
   "metadata": {},
   "source": [
    "##### Insulin"
   ]
  },
  {
   "cell_type": "code",
   "execution_count": 21,
   "id": "0d404c4f",
   "metadata": {},
   "outputs": [
    {
     "name": "stdout",
     "output_type": "stream",
     "text": [
      "Count  : 768\n",
      "min_st : 7.0\n",
      "max_st : 99.0\n",
      "q1 quantile of Data :  121.5\n",
      "q2 quantile of Data :  125.0\n",
      "q3 quantile of Data :  127.25\n",
      "iqr : 5.75\n",
      "q1-(1.5*iqr) : 112.875\n",
      "q3+(1.5*iqr) : 135.875\n"
     ]
    }
   ],
   "source": [
    "Ins = pid['Insulin']\n",
    "\n",
    "print('Count  :',len(st))\n",
    "print('min_st :',min(st))\n",
    "print('max_st :',max(st))\n",
    "\n",
    "print('q1 quantile of Data : ', np.quantile(Ins, .25)) \n",
    "print('q2 quantile of Data : ', np.quantile(Ins, .50)) \n",
    "print('q3 quantile of Data : ', np.quantile(Ins, .75))  \n",
    "\n",
    "iqr = (np.quantile(Ins, .75) - np.quantile(Ins, .25))\n",
    "print('iqr :',iqr)\n",
    "print('q1-(1.5*iqr) :',np.quantile(Ins, .25)-(1.5*iqr))\n",
    "print('q3+(1.5*iqr) :',np.quantile(Ins, .75)+(1.5*iqr))"
   ]
  },
  {
   "cell_type": "code",
   "execution_count": 22,
   "id": "fc276447",
   "metadata": {},
   "outputs": [
    {
     "name": "stdout",
     "output_type": "stream",
     "text": [
      "dimension of data: (173, 9)\n"
     ]
    }
   ],
   "source": [
    "pid_Ins = pid[pid['Insulin']>135.875] #checking for outliers\n",
    "print(\"dimension of data: {}\".format(pid_Ins.shape))"
   ]
  },
  {
   "cell_type": "markdown",
   "id": "0b8afccb",
   "metadata": {},
   "source": [
    "There are 173 rows of data having outliers out of 768 rows which is 23% of the data. As 25% data is huge data we cannot remove them as it can be useful for further analysis."
   ]
  },
  {
   "cell_type": "markdown",
   "id": "e51cf1ec",
   "metadata": {},
   "source": [
    "##### BMI"
   ]
  },
  {
   "cell_type": "code",
   "execution_count": 23,
   "id": "09f80a80",
   "metadata": {},
   "outputs": [
    {
     "name": "stdout",
     "output_type": "stream",
     "text": [
      "Count  : 768\n",
      "min_st : 18.2\n",
      "max_st : 67.1\n",
      "iqr : 9.100000000000001\n",
      "q1-(1.5*iqr) : 13.849999999999998\n",
      "q3+(1.5*iqr) : 50.25\n"
     ]
    }
   ],
   "source": [
    "bmi = pid['BMI']\n",
    "\n",
    "print('Count  :',len(bmi))\n",
    "print('min_st :',min(bmi))\n",
    "print('max_st :',max(bmi))\n",
    "\n",
    "q1  = np.percentile(bmi, 25)\n",
    "q2  = np.percentile(bmi, 50)\n",
    "q3  = np.percentile(bmi, 75)\n",
    "iqr = q3 - q1\n",
    "\n",
    "print('iqr :',iqr)\n",
    "print('q1-(1.5*iqr) :',q1-(1.5*iqr))\n",
    "print('q3+(1.5*iqr) :',q3+(1.5*iqr))"
   ]
  },
  {
   "cell_type": "code",
   "execution_count": 24,
   "id": "03a26821",
   "metadata": {},
   "outputs": [
    {
     "name": "stdout",
     "output_type": "stream",
     "text": [
      "dimension of data: (8, 9)\n"
     ]
    }
   ],
   "source": [
    "pid_bmi = pid[pid['BMI']>50.25] #checking for outliers\n",
    "print(\"dimension of data: {}\".format(pid_bmi.shape))"
   ]
  },
  {
   "cell_type": "markdown",
   "id": "bbc90493",
   "metadata": {},
   "source": [
    "There are 8 rows of data having outliers out of 768 rows which is 1% of the data. "
   ]
  },
  {
   "cell_type": "markdown",
   "id": "06b5d055",
   "metadata": {},
   "source": [
    "##### DiabetesPedigreeFunction"
   ]
  },
  {
   "cell_type": "code",
   "execution_count": 25,
   "id": "03bf3ac0",
   "metadata": {},
   "outputs": [
    {
     "name": "stdout",
     "output_type": "stream",
     "text": [
      "Count  : 768\n",
      "min_st : 0.078\n",
      "max_st : 2.42\n",
      "iqr : 0.38249999999999995\n",
      "q1-(1.5*iqr) : -0.32999999999999996\n",
      "q3+(1.5*iqr) : 1.2\n"
     ]
    }
   ],
   "source": [
    "dpf = pid['DiabetesPedigreeFunction']\n",
    "\n",
    "print('Count  :',len(dpf))\n",
    "print('min_st :',min(dpf))\n",
    "print('max_st :',max(dpf))\n",
    "\n",
    "q1  = np.percentile(dpf, 25)\n",
    "q2  = np.percentile(dpf, 50)\n",
    "q3  = np.percentile(dpf, 75)\n",
    "iqr = q3 - q1\n",
    "\n",
    "print('iqr :',iqr)\n",
    "print('q1-(1.5*iqr) :',q1-(1.5*iqr))\n",
    "print('q3+(1.5*iqr) :',q3+(1.5*iqr))"
   ]
  },
  {
   "cell_type": "code",
   "execution_count": 26,
   "id": "cc500f0f",
   "metadata": {},
   "outputs": [
    {
     "name": "stdout",
     "output_type": "stream",
     "text": [
      "dimension of data: (29, 9)\n"
     ]
    }
   ],
   "source": [
    "pid_dpf = pid[pid['DiabetesPedigreeFunction']>1.2] #checking for outliers\n",
    "print(\"dimension of data: {}\".format(pid_dpf.shape))"
   ]
  },
  {
   "cell_type": "markdown",
   "id": "0d460463",
   "metadata": {},
   "source": [
    "There are 29 rows of data having outliers out of 768 rows which is 3% of the data."
   ]
  },
  {
   "cell_type": "markdown",
   "id": "f55f0ede",
   "metadata": {},
   "source": [
    "##### BloodPressure"
   ]
  },
  {
   "cell_type": "code",
   "execution_count": 27,
   "id": "f7e55104",
   "metadata": {},
   "outputs": [
    {
     "name": "stdout",
     "output_type": "stream",
     "text": [
      "Count  : 768\n",
      "min_st : 24.0\n",
      "max_st : 122.0\n",
      "iqr : 16.0\n",
      "q1-(1.5*iqr) : 40.0\n",
      "q3+(1.5*iqr) : 104.0\n"
     ]
    }
   ],
   "source": [
    "bp = pid['BloodPressure']\n",
    "\n",
    "print('Count  :',len(bp))\n",
    "print('min_st :',min(bp))\n",
    "print('max_st :',max(bp))\n",
    "\n",
    "q1  = np.percentile(bp, 25)\n",
    "q2  = np.percentile(bp, 50)\n",
    "q3  = np.percentile(bp, 75)\n",
    "iqr = q3 - q1\n",
    "\n",
    "print('iqr :',iqr)\n",
    "print('q1-(1.5*iqr) :',q1-(1.5*iqr))\n",
    "print('q3+(1.5*iqr) :',q3+(1.5*iqr))"
   ]
  },
  {
   "cell_type": "code",
   "execution_count": 28,
   "id": "ffcb82cd",
   "metadata": {},
   "outputs": [
    {
     "name": "stdout",
     "output_type": "stream",
     "text": [
      "dimension of data: (10, 9)\n"
     ]
    }
   ],
   "source": [
    "pid_bp = pid[pid['BloodPressure']>104.0] #checking for outliers\n",
    "print(\"dimension of data: {}\".format(pid_bp.shape))"
   ]
  },
  {
   "cell_type": "markdown",
   "id": "5fa4adf2",
   "metadata": {},
   "source": [
    "There are 10 rows of data having outliers out of 768 rows which is 1.3% of the data"
   ]
  },
  {
   "cell_type": "markdown",
   "id": "46896b45",
   "metadata": {},
   "source": [
    "##### Pregnancies"
   ]
  },
  {
   "cell_type": "code",
   "execution_count": 29,
   "id": "e1bcfb16",
   "metadata": {},
   "outputs": [
    {
     "name": "stdout",
     "output_type": "stream",
     "text": [
      "Count  : 768\n",
      "min_st : 0\n",
      "max_st : 17\n",
      "iqr : 5.0\n",
      "q1-(1.5*iqr) : -6.5\n",
      "q3+(1.5*iqr) : 13.5\n"
     ]
    }
   ],
   "source": [
    "preg = pid['Pregnancies']\n",
    "\n",
    "print('Count  :',len(preg))\n",
    "print('min_st :',min(preg))\n",
    "print('max_st :',max(preg))\n",
    "\n",
    "q1  = np.percentile(preg, 25)\n",
    "q2  = np.percentile(preg, 50)\n",
    "q3  = np.percentile(preg, 75)\n",
    "iqr = q3 - q1\n",
    "\n",
    "print('iqr :',iqr)\n",
    "print('q1-(1.5*iqr) :',q1-(1.5*iqr))\n",
    "print('q3+(1.5*iqr) :',q3+(1.5*iqr))"
   ]
  },
  {
   "cell_type": "code",
   "execution_count": 30,
   "id": "6e07be51",
   "metadata": {},
   "outputs": [
    {
     "name": "stdout",
     "output_type": "stream",
     "text": [
      "dimension of data: (4, 9)\n"
     ]
    }
   ],
   "source": [
    "pid_preg = pid[pid['Pregnancies']>13.5] #checking for outliers\n",
    "print(\"dimension of data: {}\".format(pid_preg.shape))"
   ]
  },
  {
   "cell_type": "markdown",
   "id": "14875e8f",
   "metadata": {},
   "source": [
    "There are 4 rows of data having outliers out of 768 rows which is 0.5% of the data. Which is less than 1% data, the outliers of this data will hence be removed."
   ]
  },
  {
   "cell_type": "code",
   "execution_count": 31,
   "id": "c20b739b",
   "metadata": {},
   "outputs": [],
   "source": [
    "pid = pid[pid['Pregnancies']<=13.5]"
   ]
  },
  {
   "cell_type": "markdown",
   "id": "608695fb",
   "metadata": {},
   "source": [
    "##### Age"
   ]
  },
  {
   "cell_type": "code",
   "execution_count": 32,
   "id": "8e5d39b6",
   "metadata": {},
   "outputs": [
    {
     "name": "stdout",
     "output_type": "stream",
     "text": [
      "Count  : 764\n",
      "min_st : 21\n",
      "max_st : 81\n",
      "iqr : 16.25\n",
      "q1-(1.5*iqr) : -0.375\n",
      "q3+(1.5*iqr) : 64.625\n"
     ]
    }
   ],
   "source": [
    "age = pid['Age']\n",
    "\n",
    "print('Count  :',len(age))\n",
    "print('min_st :',min(age))\n",
    "print('max_st :',max(age))\n",
    "\n",
    "q1  = np.percentile(age, 25)\n",
    "q2  = np.percentile(age, 50)\n",
    "q3  = np.percentile(age, 75)\n",
    "iqr = q3 - q1\n",
    "\n",
    "print('iqr :',iqr)\n",
    "print('q1-(1.5*iqr) :',q1-(1.5*iqr))\n",
    "print('q3+(1.5*iqr) :',q3+(1.5*iqr))"
   ]
  },
  {
   "cell_type": "code",
   "execution_count": 33,
   "id": "ae81abdb",
   "metadata": {},
   "outputs": [
    {
     "name": "stdout",
     "output_type": "stream",
     "text": [
      "dimension of data: (9, 9)\n"
     ]
    }
   ],
   "source": [
    "pid_age = pid[pid['Age']>66.5] #checking for outliers\n",
    "print(\"dimension of data: {}\".format(pid_age.shape))"
   ]
  },
  {
   "cell_type": "markdown",
   "id": "200b031e",
   "metadata": {},
   "source": [
    "There are 9 rows of data having outliers out of 768 rows which is 1% of the data."
   ]
  },
  {
   "cell_type": "markdown",
   "id": "280448e0",
   "metadata": {},
   "source": [
    "### Age Descriptive Statistics"
   ]
  },
  {
   "cell_type": "code",
   "execution_count": 34,
   "id": "a3c274f4",
   "metadata": {},
   "outputs": [
    {
     "name": "stdout",
     "output_type": "stream",
     "text": [
      "count of all ages is 764\n",
      "minimum age given in the dataset is 21\n",
      "maximum age given in the dataset is 81\n"
     ]
    }
   ],
   "source": [
    "import math\n",
    "\n",
    "age_count = len(pid.Age)\n",
    "min_age = min(pid.Age)\n",
    "max_age = max(pid.Age)\n",
    "\n",
    "print(f'count of all ages is {age_count}')\n",
    "print(f'minimum age given in the dataset is {min_age}')\n",
    "print(f'maximum age given in the dataset is {max_age}')"
   ]
  },
  {
   "cell_type": "code",
   "execution_count": 35,
   "id": "3f4583d2",
   "metadata": {},
   "outputs": [
    {
     "data": {
      "image/png": "[encoded data removed]",
      "text/plain": [
       "<Figure size 432x288 with 1 Axes>"
      ]
     },
     "metadata": {
      "needs_background": "light"
     },
     "output_type": "display_data"
    }
   ],
   "source": [
    "histogram = pid.hist('Age')"
   ]
  },
  {
   "cell_type": "markdown",
   "id": "698b1359",
   "metadata": {},
   "source": [
    "By looking at the histogram of Age column, can see the data is rightly skewed."
   ]
  },
  {
   "cell_type": "markdown",
   "id": "251cb1c1",
   "metadata": {},
   "source": [
    "#### Age mean, median, variance, and standard deviation"
   ]
  },
  {
   "cell_type": "code",
   "execution_count": 36,
   "id": "64d3f7be",
   "metadata": {},
   "outputs": [
    {
     "name": "stdout",
     "output_type": "stream",
     "text": [
      "stat.mean      = 33.19\n",
      "stat.median    = 29.00\n",
      "stat.pvariance = 138.23\n",
      "stat.pstdev    = 11.76\n"
     ]
    }
   ],
   "source": [
    "import statistics as stat\n",
    "\n",
    "print(f'stat.mean      = {stat.mean(pid.Age):.2f}')\n",
    "print(f'stat.median    = {stat.median(pid.Age):.2f}')\n",
    "print(f'stat.pvariance = {stat.pvariance(pid.Age):.2f}')\n",
    "print(f'stat.pstdev    = {stat.pstdev(pid.Age):.2f}')"
   ]
  },
  {
   "cell_type": "code",
   "execution_count": 37,
   "id": "ab6e9109",
   "metadata": {},
   "outputs": [
    {
     "name": "stdout",
     "output_type": "stream",
     "text": [
      "stat.mode      = 22.00\n"
     ]
    }
   ],
   "source": [
    "print(f'stat.mode      = {stat.mode(pid.Age):.2f}')"
   ]
  },
  {
   "cell_type": "markdown",
   "id": "70157a5a",
   "metadata": {},
   "source": [
    "#### Computing from definitions"
   ]
  },
  {
   "cell_type": "code",
   "execution_count": 38,
   "id": "5982e388",
   "metadata": {},
   "outputs": [
    {
     "name": "stdout",
     "output_type": "stream",
     "text": [
      "Count of the age =  764\n"
     ]
    }
   ],
   "source": [
    "ages_count = len(pid.Age)\n",
    "print('Count of the age = ',ages_count)"
   ]
  },
  {
   "cell_type": "code",
   "execution_count": 39,
   "id": "ec40ed49",
   "metadata": {},
   "outputs": [
    {
     "name": "stdout",
     "output_type": "stream",
     "text": [
      "mean of the age = 33.19\n"
     ]
    }
   ],
   "source": [
    "mean_age = sum(pid.Age)/ages_count\n",
    "print(f'mean of the age = {mean_age:.2f}')"
   ]
  },
  {
   "cell_type": "code",
   "execution_count": 40,
   "id": "3c01d2c2",
   "metadata": {},
   "outputs": [],
   "source": [
    "sorted_ages = sorted(pid.Age)"
   ]
  },
  {
   "cell_type": "code",
   "execution_count": 41,
   "id": "618404c7",
   "metadata": {},
   "outputs": [
    {
     "name": "stdout",
     "output_type": "stream",
     "text": [
      "median of ages = 29.00\n"
     ]
    }
   ],
   "source": [
    "mid = ages_count//2\n",
    "\n",
    "if ages_count%2 == 1:\n",
    "    median_age = sorted_ages[mid]\n",
    "else:\n",
    "    median_age = (sorted_ages[mid] + sorted_ages[mid - 1])/2\n",
    "    \n",
    "print(f'median of ages = {median_age:.2f}')"
   ]
  },
  {
   "cell_type": "code",
   "execution_count": 42,
   "id": "751764bd",
   "metadata": {},
   "outputs": [
    {
     "name": "stdout",
     "output_type": "stream",
     "text": [
      "sum sqrs of ages = 105606.23\n",
      "variance of ages = 138.23\n",
      "std dev of ages  = 11.76\n"
     ]
    }
   ],
   "source": [
    "sum_of_squares = 0\n",
    "\n",
    "for age in (pid.Age):\n",
    "    sum_of_squares += (age - mean_age)**2\n",
    "    \n",
    "variance = sum_of_squares/ages_count\n",
    "stdev    = math.sqrt(variance)\n",
    "\n",
    "print(f'sum sqrs of ages = {sum_of_squares:.2f}')\n",
    "print(f'variance of ages = {variance:.2f}')\n",
    "print(f'std dev of ages  = {stdev:.2f}')"
   ]
  },
  {
   "cell_type": "markdown",
   "id": "6fbec9c5",
   "metadata": {},
   "source": [
    "### Exploratory Data Analysis"
   ]
  },
  {
   "cell_type": "code",
   "execution_count": 43,
   "id": "009fdabe",
   "metadata": {},
   "outputs": [
    {
     "data": {
      "text/html": [
       "<div>\n",
       "<style scoped>\n",
       "    .dataframe tbody tr th:only-of-type {\n",
       "        vertical-align: middle;\n",
       "    }\n",
       "\n",
       "    .dataframe tbody tr th {\n",
       "        vertical-align: top;\n",
       "    }\n",
       "\n",
       "    .dataframe thead th {\n",
       "        text-align: right;\n",
       "    }\n",
       "</style>\n",
       "<table border=\"1\" class=\"dataframe\">\n",
       "  <thead>\n",
       "    <tr style=\"text-align: right;\">\n",
       "      <th></th>\n",
       "      <th>Pregnancies</th>\n",
       "      <th>Glucose</th>\n",
       "      <th>BloodPressure</th>\n",
       "      <th>SkinThickness</th>\n",
       "      <th>Insulin</th>\n",
       "      <th>BMI</th>\n",
       "      <th>DiabetesPedigreeFunction</th>\n",
       "      <th>Age</th>\n",
       "    </tr>\n",
       "    <tr>\n",
       "      <th>Outcome</th>\n",
       "      <th></th>\n",
       "      <th></th>\n",
       "      <th></th>\n",
       "      <th></th>\n",
       "      <th></th>\n",
       "      <th></th>\n",
       "      <th></th>\n",
       "      <th></th>\n",
       "    </tr>\n",
       "  </thead>\n",
       "  <tbody>\n",
       "    <tr>\n",
       "      <th>0</th>\n",
       "      <td>500</td>\n",
       "      <td>500</td>\n",
       "      <td>500</td>\n",
       "      <td>500</td>\n",
       "      <td>500</td>\n",
       "      <td>500</td>\n",
       "      <td>500</td>\n",
       "      <td>500</td>\n",
       "    </tr>\n",
       "    <tr>\n",
       "      <th>1</th>\n",
       "      <td>264</td>\n",
       "      <td>264</td>\n",
       "      <td>264</td>\n",
       "      <td>264</td>\n",
       "      <td>264</td>\n",
       "      <td>264</td>\n",
       "      <td>264</td>\n",
       "      <td>264</td>\n",
       "    </tr>\n",
       "  </tbody>\n",
       "</table>\n",
       "</div>"
      ],
      "text/plain": [
       "         Pregnancies  Glucose  BloodPressure  SkinThickness  Insulin  BMI  \\\n",
       "Outcome                                                                     \n",
       "0                500      500            500            500      500  500   \n",
       "1                264      264            264            264      264  264   \n",
       "\n",
       "         DiabetesPedigreeFunction  Age  \n",
       "Outcome                                 \n",
       "0                             500  500  \n",
       "1                             264  264  "
      ]
     },
     "execution_count": 43,
     "metadata": {},
     "output_type": "execute_result"
    }
   ],
   "source": [
    "pid.groupby('Outcome').count() "
   ]
  },
  {
   "cell_type": "markdown",
   "id": "023f7943",
   "metadata": {},
   "source": [
    "The above data shows that the data is unbalanced. The number of non-diabetic (outcome = 0) is 500 the number of diabetic (outcome = 1) is 268. For this Oversampling with SMOTE (Synthetic Minority Over-sampling Technique) can be used for further analysis."
   ]
  },
  {
   "cell_type": "code",
   "execution_count": 44,
   "id": "11aca471",
   "metadata": {},
   "outputs": [
    {
     "data": {
      "image/png": "[encoded data removed]",
      "text/plain": [
       "<Figure size 432x288 with 1 Axes>"
      ]
     },
     "metadata": {},
     "output_type": "display_data"
    }
   ],
   "source": [
    "fig, ax = plt.subplots()\n",
    "\n",
    "labels = ['Diabetic', \n",
    "         'Non-Diabetic']\n",
    "colors = ('brown', 'grey') \n",
    "percentages = [34.00, 65.00]\n",
    "explode=(0.1,0)\n",
    "\n",
    "ax.pie(percentages, explode=explode, labels=labels, colors=colors, autopct='%1.0f%%', \n",
    "       shadow=False, startangle=0,   \n",
    "       pctdistance=1.2,labeldistance=1.4)\n",
    "\n",
    "ax.legend(frameon=False, bbox_to_anchor=(1.5,0.8))\n",
    "plt.show()"
   ]
  },
  {
   "cell_type": "markdown",
   "id": "f6cfbf2f",
   "metadata": {},
   "source": [
    "### Heat Map"
   ]
  },
  {
   "cell_type": "code",
   "execution_count": 45,
   "id": "c9e8e8ac",
   "metadata": {},
   "outputs": [
    {
     "data": {
      "text/plain": [
       "<AxesSubplot:>"
      ]
     },
     "execution_count": 45,
     "metadata": {},
     "output_type": "execute_result"
    },
    {
     "data": {
      "image/png": "[encoded data removed]",
      "text/plain": [
       "<Figure size 432x288 with 2 Axes>"
      ]
     },
     "metadata": {
      "needs_background": "light"
     },
     "output_type": "display_data"
    }
   ],
   "source": [
    "corr = pid[pid.columns].corr()\n",
    "sns.heatmap(corr, annot = True,cmap='Blues')"
   ]
  },
  {
   "cell_type": "markdown",
   "id": "437cf9a2",
   "metadata": {},
   "source": [
    "From the above heat map, can see we can say that DiabetesPedegreeFunction, BloodPressure, Skin Thickness and Insulin have very less positive relation with the Outcome. We can ignore those for the further analysis.   \n",
    "\n",
    "Some of the varibles like Glucose,BMI,Age can see little correlation with the outcome. Doing the analysis with those variables.\n",
    "\n",
    "Also can see the variables- Pregnancies and age having 0.55 of correlation with each other, and BMI and SkinThickness as well."
   ]
  },
  {
   "cell_type": "code",
   "execution_count": 46,
   "id": "69b7c0d1",
   "metadata": {},
   "outputs": [
    {
     "data": {
      "text/html": [
       "<div>\n",
       "<style scoped>\n",
       "    .dataframe tbody tr th:only-of-type {\n",
       "        vertical-align: middle;\n",
       "    }\n",
       "\n",
       "    .dataframe tbody tr th {\n",
       "        vertical-align: top;\n",
       "    }\n",
       "\n",
       "    .dataframe thead tr th {\n",
       "        text-align: left;\n",
       "    }\n",
       "\n",
       "    .dataframe thead tr:last-of-type th {\n",
       "        text-align: right;\n",
       "    }\n",
       "</style>\n",
       "<table border=\"1\" class=\"dataframe\">\n",
       "  <thead>\n",
       "    <tr>\n",
       "      <th></th>\n",
       "      <th colspan=\"2\" halign=\"left\">Glucose</th>\n",
       "      <th colspan=\"2\" halign=\"left\">BMI</th>\n",
       "      <th colspan=\"2\" halign=\"left\">Age</th>\n",
       "    </tr>\n",
       "    <tr>\n",
       "      <th></th>\n",
       "      <th>mean</th>\n",
       "      <th>median</th>\n",
       "      <th>mean</th>\n",
       "      <th>median</th>\n",
       "      <th>mean</th>\n",
       "      <th>median</th>\n",
       "    </tr>\n",
       "    <tr>\n",
       "      <th>Outcome</th>\n",
       "      <th></th>\n",
       "      <th></th>\n",
       "      <th></th>\n",
       "      <th></th>\n",
       "      <th></th>\n",
       "      <th></th>\n",
       "    </tr>\n",
       "  </thead>\n",
       "  <tbody>\n",
       "    <tr>\n",
       "      <th>0</th>\n",
       "      <td>110.68</td>\n",
       "      <td>107.5</td>\n",
       "      <td>30.89</td>\n",
       "      <td>30.4</td>\n",
       "      <td>31.19</td>\n",
       "      <td>27.0</td>\n",
       "    </tr>\n",
       "    <tr>\n",
       "      <th>1</th>\n",
       "      <td>142.11</td>\n",
       "      <td>140.0</td>\n",
       "      <td>35.36</td>\n",
       "      <td>34.2</td>\n",
       "      <td>36.97</td>\n",
       "      <td>36.0</td>\n",
       "    </tr>\n",
       "  </tbody>\n",
       "</table>\n",
       "</div>"
      ],
      "text/plain": [
       "        Glucose           BMI           Age       \n",
       "           mean median   mean median   mean median\n",
       "Outcome                                           \n",
       "0        110.68  107.5  30.89   30.4  31.19   27.0\n",
       "1        142.11  140.0  35.36   34.2  36.97   36.0"
      ]
     },
     "execution_count": 46,
     "metadata": {},
     "output_type": "execute_result"
    }
   ],
   "source": [
    "pid.groupby(['Outcome'])[['Glucose', 'BMI','Age']].agg(['mean','median'])"
   ]
  },
  {
   "cell_type": "code",
   "execution_count": 47,
   "id": "6ad52fe1",
   "metadata": {},
   "outputs": [
    {
     "data": {
      "text/plain": [
       "<AxesSubplot:xlabel='Age', ylabel='Count'>"
      ]
     },
     "execution_count": 47,
     "metadata": {},
     "output_type": "execute_result"
    },
    {
     "data": {
      "image/png": "[encoded data removed]",
      "text/plain": [
       "<Figure size 1080x360 with 3 Axes>"
      ]
     },
     "metadata": {
      "needs_background": "light"
     },
     "output_type": "display_data"
    }
   ],
   "source": [
    "fig, axs = plt.subplots(1, 3, figsize=(15, 5))\n",
    "\n",
    "sns.histplot(data=pid, x='Glucose', hue='Outcome', kde=True, ax=axs[0])\n",
    "sns.histplot(data=pid, x='BMI', hue='Outcome', kde=True, ax=axs[1])\n",
    "sns.histplot(data=pid, x='Age', hue='Outcome', kde=True, ax=axs[2])"
   ]
  },
  {
   "cell_type": "markdown",
   "id": "f6ac19a9",
   "metadata": {},
   "source": [
    "### Analysis of Age with respective outcome"
   ]
  },
  {
   "cell_type": "code",
   "execution_count": 48,
   "id": "12f69b8c",
   "metadata": {},
   "outputs": [
    {
     "data": {
      "text/html": [
       "<div>\n",
       "<style scoped>\n",
       "    .dataframe tbody tr th:only-of-type {\n",
       "        vertical-align: middle;\n",
       "    }\n",
       "\n",
       "    .dataframe tbody tr th {\n",
       "        vertical-align: top;\n",
       "    }\n",
       "\n",
       "    .dataframe thead th {\n",
       "        text-align: right;\n",
       "    }\n",
       "</style>\n",
       "<table border=\"1\" class=\"dataframe\">\n",
       "  <thead>\n",
       "    <tr style=\"text-align: right;\">\n",
       "      <th></th>\n",
       "      <th>Outcome</th>\n",
       "    </tr>\n",
       "    <tr>\n",
       "      <th>Age</th>\n",
       "      <th></th>\n",
       "    </tr>\n",
       "  </thead>\n",
       "  <tbody>\n",
       "    <tr>\n",
       "      <th>21-24</th>\n",
       "      <td>31</td>\n",
       "    </tr>\n",
       "    <tr>\n",
       "      <th>25-30</th>\n",
       "      <td>58</td>\n",
       "    </tr>\n",
       "    <tr>\n",
       "      <th>31-40</th>\n",
       "      <td>32</td>\n",
       "    </tr>\n",
       "    <tr>\n",
       "      <th>41-55</th>\n",
       "      <td>113</td>\n",
       "    </tr>\n",
       "    <tr>\n",
       "      <th>&gt;55</th>\n",
       "      <td>29</td>\n",
       "    </tr>\n",
       "  </tbody>\n",
       "</table>\n",
       "</div>"
      ],
      "text/plain": [
       "       Outcome\n",
       "Age           \n",
       "21-24       31\n",
       "25-30       58\n",
       "31-40       32\n",
       "41-55      113\n",
       ">55         29"
      ]
     },
     "execution_count": 48,
     "metadata": {},
     "output_type": "execute_result"
    }
   ],
   "source": [
    "a=pd.Series([])\n",
    "for i in pid.Age:\n",
    "    if(pid.loc[i:i,]['Age']<=24).bool():\n",
    "        a=a.append(pd.Series(['21-24']))\n",
    "    elif(pid.loc[i:i,]['Age']<=30).bool():\n",
    "        a=a.append(pd.Series(['25-30']))\n",
    "    elif(pid.loc[i:i,]['Age']<=40).bool():\n",
    "        a=a.append(pd.Series(['31-40']))\n",
    "    elif(pid.loc[i:i,]['Age']<=55).bool():\n",
    "        a=a.append(pd.Series(['41-55']))\n",
    "    else:\n",
    "        a=a.append(pd.Series(['>55']))\n",
    "a.reset_index(drop=True,inplace=True)\n",
    "pid['Age']=a\n",
    "pid.head()\n",
    "\n",
    "#Find the number of diabetic person in each age group\n",
    "\n",
    "data1=pid[pid['Outcome']==1].groupby('Age')[['Outcome']].count()\n",
    "data1\n",
    "data1.head()"
   ]
  },
  {
   "cell_type": "code",
   "execution_count": 49,
   "id": "290fee47",
   "metadata": {},
   "outputs": [
    {
     "data": {
      "text/html": [
       "<div>\n",
       "<style scoped>\n",
       "    .dataframe tbody tr th:only-of-type {\n",
       "        vertical-align: middle;\n",
       "    }\n",
       "\n",
       "    .dataframe tbody tr th {\n",
       "        vertical-align: top;\n",
       "    }\n",
       "\n",
       "    .dataframe thead th {\n",
       "        text-align: right;\n",
       "    }\n",
       "</style>\n",
       "<table border=\"1\" class=\"dataframe\">\n",
       "  <thead>\n",
       "    <tr style=\"text-align: right;\">\n",
       "      <th></th>\n",
       "      <th>Outcome</th>\n",
       "      <th>Diabetic %</th>\n",
       "    </tr>\n",
       "    <tr>\n",
       "      <th>Age</th>\n",
       "      <th></th>\n",
       "      <th></th>\n",
       "    </tr>\n",
       "  </thead>\n",
       "  <tbody>\n",
       "    <tr>\n",
       "      <th>21-24</th>\n",
       "      <td>31</td>\n",
       "      <td>37.80</td>\n",
       "    </tr>\n",
       "    <tr>\n",
       "      <th>25-30</th>\n",
       "      <td>58</td>\n",
       "      <td>37.91</td>\n",
       "    </tr>\n",
       "    <tr>\n",
       "      <th>31-40</th>\n",
       "      <td>32</td>\n",
       "      <td>29.63</td>\n",
       "    </tr>\n",
       "    <tr>\n",
       "      <th>41-55</th>\n",
       "      <td>113</td>\n",
       "      <td>32.85</td>\n",
       "    </tr>\n",
       "    <tr>\n",
       "      <th>&gt;55</th>\n",
       "      <td>29</td>\n",
       "      <td>39.73</td>\n",
       "    </tr>\n",
       "  </tbody>\n",
       "</table>\n",
       "</div>"
      ],
      "text/plain": [
       "       Outcome  Diabetic %\n",
       "Age                       \n",
       "21-24       31       37.80\n",
       "25-30       58       37.91\n",
       "31-40       32       29.63\n",
       "41-55      113       32.85\n",
       ">55         29       39.73"
      ]
     },
     "execution_count": 49,
     "metadata": {},
     "output_type": "execute_result"
    }
   ],
   "source": [
    "data2=pid.groupby('Age')[['Outcome']].count()\n",
    "data1['Diabetic %']=(data1['Outcome']/data2['Outcome'])*100\n",
    "data1"
   ]
  },
  {
   "cell_type": "code",
   "execution_count": 50,
   "id": "8c5e7658",
   "metadata": {},
   "outputs": [
    {
     "data": {
      "text/plain": [
       "<AxesSubplot:xlabel='Age', ylabel='Diabetic %'>"
      ]
     },
     "execution_count": 50,
     "metadata": {},
     "output_type": "execute_result"
    },
    {
     "data": {
      "image/png": "[encoded data removed]",
      "text/plain": [
       "<Figure size 432x288 with 1 Axes>"
      ]
     },
     "metadata": {
      "needs_background": "light"
     },
     "output_type": "display_data"
    }
   ],
   "source": [
    "sns.barplot(data1.index,data1['Diabetic %'])"
   ]
  },
  {
   "cell_type": "markdown",
   "id": "0a338180",
   "metadata": {},
   "source": [
    "#### Observations:   \n",
    "1. From the above histplot can see the age column is rightly skewed, we divided those in to age groups and calculated the percentages of the diabetic patients.   \n",
    "2. From the above bar graph can see patients in the age groups of 21-30 and more than 55 are diabetic than the othe age groups.   \n",
    "3. Most of the patients in this age group are young women or old women. In young women, as in some cases they can also get diabetics during pregnancy.   \n",
    "4. Also older women are more prone to get diabetics."
   ]
  },
  {
   "cell_type": "markdown",
   "id": "0aa3ce42",
   "metadata": {},
   "source": [
    "### Analysis of Glucose and BMI with respective outcome"
   ]
  },
  {
   "cell_type": "code",
   "execution_count": 51,
   "id": "c75d18b1",
   "metadata": {},
   "outputs": [
    {
     "data": {
      "text/plain": [
       "<seaborn.axisgrid.FacetGrid at 0x7f95e0ee5ca0>"
      ]
     },
     "execution_count": 51,
     "metadata": {},
     "output_type": "execute_result"
    },
    {
     "data": {
      "image/png": "[encoded data removed]",
      "text/plain": [
       "<Figure size 413.25x360 with 1 Axes>"
      ]
     },
     "metadata": {
      "needs_background": "light"
     },
     "output_type": "display_data"
    }
   ],
   "source": [
    "sns.displot(pid, x='Glucose', hue='Outcome', kind=\"kde\", fill=True)"
   ]
  },
  {
   "cell_type": "markdown",
   "id": "837e8613",
   "metadata": {},
   "source": [
    "From the plots, can determine women having high Glucose levels tend to have Diabetes"
   ]
  },
  {
   "cell_type": "code",
   "execution_count": 52,
   "id": "603899de",
   "metadata": {},
   "outputs": [
    {
     "data": {
      "text/plain": [
       "<AxesSubplot:xlabel='Outcome', ylabel='BMI'>"
      ]
     },
     "execution_count": 52,
     "metadata": {},
     "output_type": "execute_result"
    },
    {
     "data": {
      "image/png": "[encoded data removed]",
      "text/plain": [
       "<Figure size 720x360 with 2 Axes>"
      ]
     },
     "metadata": {
      "needs_background": "light"
     },
     "output_type": "display_data"
    }
   ],
   "source": [
    "fig, axes = plt.subplots(1,2, figsize=(10, 5))\n",
    "\n",
    "sns.stripplot(x='Outcome', y='BMI', data=pid,ax=axes[0])\n",
    "sns.barplot(pid['Outcome'], pid['BMI'],ax=axes[1])"
   ]
  },
  {
   "cell_type": "markdown",
   "id": "a9134205",
   "metadata": {},
   "source": [
    "Also women with high BMI are prone to have Diabetes"
   ]
  },
  {
   "cell_type": "markdown",
   "id": "3ca38477",
   "metadata": {},
   "source": [
    "### Analysis of Pregnancy with respective Outcome"
   ]
  },
  {
   "cell_type": "code",
   "execution_count": 53,
   "id": "1169e8e9",
   "metadata": {},
   "outputs": [
    {
     "data": {
      "text/html": [
       "<div>\n",
       "<style scoped>\n",
       "    .dataframe tbody tr th:only-of-type {\n",
       "        vertical-align: middle;\n",
       "    }\n",
       "\n",
       "    .dataframe tbody tr th {\n",
       "        vertical-align: top;\n",
       "    }\n",
       "\n",
       "    .dataframe thead th {\n",
       "        text-align: right;\n",
       "    }\n",
       "</style>\n",
       "<table border=\"1\" class=\"dataframe\">\n",
       "  <thead>\n",
       "    <tr style=\"text-align: right;\">\n",
       "      <th>Outcome</th>\n",
       "      <th>0</th>\n",
       "      <th>1</th>\n",
       "    </tr>\n",
       "    <tr>\n",
       "      <th>Pregnancies</th>\n",
       "      <th></th>\n",
       "      <th></th>\n",
       "    </tr>\n",
       "  </thead>\n",
       "  <tbody>\n",
       "    <tr>\n",
       "      <th>0</th>\n",
       "      <td>73</td>\n",
       "      <td>38</td>\n",
       "    </tr>\n",
       "    <tr>\n",
       "      <th>1</th>\n",
       "      <td>106</td>\n",
       "      <td>29</td>\n",
       "    </tr>\n",
       "    <tr>\n",
       "      <th>2</th>\n",
       "      <td>84</td>\n",
       "      <td>19</td>\n",
       "    </tr>\n",
       "    <tr>\n",
       "      <th>3</th>\n",
       "      <td>48</td>\n",
       "      <td>27</td>\n",
       "    </tr>\n",
       "    <tr>\n",
       "      <th>4</th>\n",
       "      <td>45</td>\n",
       "      <td>23</td>\n",
       "    </tr>\n",
       "    <tr>\n",
       "      <th>5</th>\n",
       "      <td>36</td>\n",
       "      <td>21</td>\n",
       "    </tr>\n",
       "    <tr>\n",
       "      <th>6</th>\n",
       "      <td>34</td>\n",
       "      <td>16</td>\n",
       "    </tr>\n",
       "    <tr>\n",
       "      <th>7</th>\n",
       "      <td>20</td>\n",
       "      <td>25</td>\n",
       "    </tr>\n",
       "    <tr>\n",
       "      <th>8</th>\n",
       "      <td>16</td>\n",
       "      <td>22</td>\n",
       "    </tr>\n",
       "    <tr>\n",
       "      <th>9</th>\n",
       "      <td>10</td>\n",
       "      <td>18</td>\n",
       "    </tr>\n",
       "    <tr>\n",
       "      <th>10</th>\n",
       "      <td>14</td>\n",
       "      <td>10</td>\n",
       "    </tr>\n",
       "    <tr>\n",
       "      <th>11</th>\n",
       "      <td>4</td>\n",
       "      <td>7</td>\n",
       "    </tr>\n",
       "    <tr>\n",
       "      <th>12</th>\n",
       "      <td>5</td>\n",
       "      <td>4</td>\n",
       "    </tr>\n",
       "    <tr>\n",
       "      <th>13</th>\n",
       "      <td>5</td>\n",
       "      <td>5</td>\n",
       "    </tr>\n",
       "  </tbody>\n",
       "</table>\n",
       "</div>"
      ],
      "text/plain": [
       "Outcome        0   1\n",
       "Pregnancies         \n",
       "0             73  38\n",
       "1            106  29\n",
       "2             84  19\n",
       "3             48  27\n",
       "4             45  23\n",
       "5             36  21\n",
       "6             34  16\n",
       "7             20  25\n",
       "8             16  22\n",
       "9             10  18\n",
       "10            14  10\n",
       "11             4   7\n",
       "12             5   4\n",
       "13             5   5"
      ]
     },
     "execution_count": 53,
     "metadata": {},
     "output_type": "execute_result"
    }
   ],
   "source": [
    "pd.crosstab(pid['Pregnancies'],pid['Outcome'])"
   ]
  },
  {
   "cell_type": "code",
   "execution_count": 54,
   "id": "f0e3e54c",
   "metadata": {},
   "outputs": [
    {
     "data": {
      "text/html": [
       "<div>\n",
       "<style scoped>\n",
       "    .dataframe tbody tr th:only-of-type {\n",
       "        vertical-align: middle;\n",
       "    }\n",
       "\n",
       "    .dataframe tbody tr th {\n",
       "        vertical-align: top;\n",
       "    }\n",
       "\n",
       "    .dataframe thead th {\n",
       "        text-align: right;\n",
       "    }\n",
       "</style>\n",
       "<table border=\"1\" class=\"dataframe\">\n",
       "  <thead>\n",
       "    <tr style=\"text-align: right;\">\n",
       "      <th></th>\n",
       "      <th>mean</th>\n",
       "      <th>median</th>\n",
       "    </tr>\n",
       "    <tr>\n",
       "      <th>Outcome</th>\n",
       "      <th></th>\n",
       "      <th></th>\n",
       "    </tr>\n",
       "  </thead>\n",
       "  <tbody>\n",
       "    <tr>\n",
       "      <th>0</th>\n",
       "      <td>3.30</td>\n",
       "      <td>2.0</td>\n",
       "    </tr>\n",
       "    <tr>\n",
       "      <th>1</th>\n",
       "      <td>4.71</td>\n",
       "      <td>4.0</td>\n",
       "    </tr>\n",
       "  </tbody>\n",
       "</table>\n",
       "</div>"
      ],
      "text/plain": [
       "         mean  median\n",
       "Outcome              \n",
       "0        3.30     2.0\n",
       "1        4.71     4.0"
      ]
     },
     "execution_count": 54,
     "metadata": {},
     "output_type": "execute_result"
    }
   ],
   "source": [
    "pid.groupby(['Outcome'])['Pregnancies'].agg(['mean','median'])"
   ]
  },
  {
   "cell_type": "code",
   "execution_count": 55,
   "id": "c10e90d8",
   "metadata": {},
   "outputs": [],
   "source": [
    "# Create an array with the colors you want to use\n",
    "colors = [\"#FF0B04\", \"#4374B3\"]\n",
    "# Set your custom color palette\n",
    "sns.set_palette(\"muted\")"
   ]
  },
  {
   "cell_type": "code",
   "execution_count": 56,
   "id": "72d37032",
   "metadata": {},
   "outputs": [
    {
     "data": {
      "text/plain": [
       "<AxesSubplot:xlabel='Pregnancies', ylabel='count'>"
      ]
     },
     "execution_count": 56,
     "metadata": {},
     "output_type": "execute_result"
    },
    {
     "data": {
      "image/png": "[encoded data removed]",
      "text/plain": [
       "<Figure size 1080x360 with 3 Axes>"
      ]
     },
     "metadata": {
      "needs_background": "light"
     },
     "output_type": "display_data"
    }
   ],
   "source": [
    "fig, axes = plt.subplots(1,3, figsize=(15, 5))\n",
    "\n",
    "sns.boxplot(x='Outcome', y='Pregnancies', data=pid,ax=axes[0])\n",
    "sns.barplot(pid['Outcome'], pid['Pregnancies'],ax=axes[1])\n",
    "sns.countplot(x='Pregnancies',hue='Outcome',data=pid,ax=axes[2])"
   ]
  },
  {
   "cell_type": "markdown",
   "id": "2c993818",
   "metadata": {},
   "source": [
    "From the above charts, can see pregnant women more prone to get the Diabetes. Some studies shows some pregnant women will get diabetes but will go after their pregnancy. As the Diabetes during Pregnancy may not last long but there are chances of getting back when they become old."
   ]
  },
  {
   "cell_type": "markdown",
   "id": "6047286a",
   "metadata": {},
   "source": [
    "### Analysis of Pregnancies and Age"
   ]
  },
  {
   "cell_type": "code",
   "execution_count": 57,
   "id": "cc429ee9",
   "metadata": {},
   "outputs": [
    {
     "data": {
      "text/plain": [
       "<AxesSubplot:xlabel='Age', ylabel='Pregnancies'>"
      ]
     },
     "execution_count": 57,
     "metadata": {},
     "output_type": "execute_result"
    },
    {
     "data": {
      "image/png": "[encoded data removed]",
      "text/plain": [
       "<Figure size 432x288 with 1 Axes>"
      ]
     },
     "metadata": {
      "needs_background": "light"
     },
     "output_type": "display_data"
    }
   ],
   "source": [
    "sns.barplot(pid['Age'], pid['Pregnancies'])"
   ]
  },
  {
   "cell_type": "markdown",
   "id": "642f34d9",
   "metadata": {},
   "source": [
    "From the above graph, we can see not much difference between these variables, cannot see any convincing relationshop but if there are more data points, there may be a possibility of determining some relationship between these variables."
   ]
  },
  {
   "cell_type": "markdown",
   "id": "b239402f",
   "metadata": {},
   "source": [
    "### Analysis of BMI and SkinThickness"
   ]
  },
  {
   "cell_type": "code",
   "execution_count": 58,
   "id": "9d3d91e7",
   "metadata": {},
   "outputs": [
    {
     "data": {
      "text/plain": [
       "<AxesSubplot:xlabel='BMI', ylabel='SkinThickness'>"
      ]
     },
     "execution_count": 58,
     "metadata": {},
     "output_type": "execute_result"
    },
    {
     "data": {
      "image/png": "[encoded data removed]",
      "text/plain": [
       "<Figure size 864x576 with 2 Axes>"
      ]
     },
     "metadata": {
      "needs_background": "light"
     },
     "output_type": "display_data"
    }
   ],
   "source": [
    "fig, axes = plt.subplots(2,1, figsize=(12, 8))\n",
    "sns.regplot(data=pid, x='BMI', y='SkinThickness',ax=axes[0])\n",
    "sns.scatterplot(data=pid,x='BMI',y='SkinThickness',hue='Outcome',ax=axes[1])"
   ]
  },
  {
   "cell_type": "markdown",
   "id": "d4971efe",
   "metadata": {},
   "source": [
    "Scatter plots are used in terms of determining the relationships between the variables.  \n",
    "From the above plots, based on the trend line can see little correlation between the variables SkinThickness and BMI but the dataset being small, if there are more number of datapoints i.e., if it is a large dataset then we can determine the relationship between these variables more accurately.  "
   ]
  },
  {
   "cell_type": "markdown",
   "id": "f557821a",
   "metadata": {},
   "source": [
    "### Overall Observations:\n",
    "\n",
    "1. The dataset have nine columns(variables/attributes) in which there are eight independent variables (Pregnancies,Glucose,Blood Pressure,SkinThickness,Insulin,BMI,DiabetesPedigreeFunction,Age) and one dependent variable (Outcome).\n",
    "\n",
    "2. In the Dataset the data is unbalanced. The number of non-diabetic (outcome = 0) is 500 the number of diabetic (outcome = 1) is 268. Some the oversampling techniques like SMOTE (Synthetic Minority Over-sampling Technique) can be used for further analysis.  \n",
    "\n",
    "3. Some of the variables do not contain any null values (missing values). However, this can not be true. As Insulin,SkinThickness,BloodPressure,BMI,Glucose have zero values. \n",
    "\n",
    "4. The missing values '0' is replaced by the median of the variables for the analysis. As there are outliers in the data median is more robust than mean. \n",
    "\n",
    "5. Some variables like BloodPressure,SkinThickness,Insulin,BMI have outliers, hence there are not many datapoints in the dataset (not being a large dataset), the data is not removed from these. However for Pregnancies there are outliers below 1% only those rows are removed from the dataset. \n",
    "\n",
    "6. In the analysis part, Some of the variables like Glucose,BMI,Age can see little correlation with the outcome. And also Pregnancies and age, BMI and Skinthickness also show some correlation by looking at the heat map.\n",
    "\n",
    "7. After plotting on the charts, there is no convincing relationship can be seen between Pregnancies and Age, BMI and skinthickness. However if it is a large dataset then can determine the relationship between these variables.\n",
    "\n",
    "8. pregnant women more prone to get the Diabetes. Some studies shows some pregnant women will get diabetes but will go after their pregnancy. As the Diabetes during Pregnancy may not last long but there are chances of getting back when they become old.\n",
    "\n",
    "9. From the plots, can determine women having high Glucose levels and BMI levels tend to have Diabetes."
   ]
  }
 ],
 "metadata": {
  "kernelspec": {
   "display_name": "Python 3 (ipykernel)",
   "language": "python",
   "name": "python3"
  },
  "language_info": {
   "codemirror_mode": {
    "name": "ipython",
    "version": 3
   },
   "file_extension": ".py",
   "mimetype": "text/x-python",
   "name": "python",
   "nbconvert_exporter": "python",
   "pygments_lexer": "ipython3",
   "version": "3.9.7"
  }
 },
 "nbformat": 4,
 "nbformat_minor": 5
}
